{
 "cells": [
  {
   "cell_type": "code",
   "execution_count": 1,
   "metadata": {
    "collapsed": true
   },
   "outputs": [],
   "source": [
    "from math import log\n",
    "import matplotlib.pyplot as plt\n",
    "import re, glob, os\n",
    "%matplotlib inline"
   ]
  },
  {
   "cell_type": "markdown",
   "metadata": {},
   "source": [
    "# Baseline (assignment 1.2.1)"
   ]
  },
  {
   "cell_type": "markdown",
   "metadata": {},
   "source": [
    "### Extracting all baseline files and running times"
   ]
  },
  {
   "cell_type": "code",
   "execution_count": 9,
   "metadata": {},
   "outputs": [
    {
     "name": "stdout",
     "output_type": "stream",
     "text": [
      "<_io.TextIOWrapper name='yoursort_O2-baseline-1000.data' mode='r' encoding='UTF-8'>\n",
      "<_io.TextIOWrapper name='yoursort_O2-baseline-10000.data' mode='r' encoding='UTF-8'>\n",
      "<_io.TextIOWrapper name='quicksort-baseline-100.data' mode='r' encoding='UTF-8'>\n",
      "<_io.TextIOWrapper name='quicksort-baseline-10.data' mode='r' encoding='UTF-8'>\n",
      "<_io.TextIOWrapper name='yoursort_O2-baseline-100.data' mode='r' encoding='UTF-8'>\n",
      "<_io.TextIOWrapper name='heapsort-baseline-10000.data' mode='r' encoding='UTF-8'>\n",
      "<_io.TextIOWrapper name='yoursort-baseline-10000.data' mode='r' encoding='UTF-8'>\n",
      "<_io.TextIOWrapper name='yoursort-baseline-10.data' mode='r' encoding='UTF-8'>\n",
      "<_io.TextIOWrapper name='heapsort-baseline-1000.data' mode='r' encoding='UTF-8'>\n",
      "<_io.TextIOWrapper name='quicksort-baseline-10000.data' mode='r' encoding='UTF-8'>\n",
      "<_io.TextIOWrapper name='yoursort-baseline-100.data' mode='r' encoding='UTF-8'>\n",
      "<_io.TextIOWrapper name='heapsort-baseline-10.data' mode='r' encoding='UTF-8'>\n",
      "<_io.TextIOWrapper name='yoursort_O2-baseline-10.data' mode='r' encoding='UTF-8'>\n",
      "<_io.TextIOWrapper name='quicksort-baseline-1000.data' mode='r' encoding='UTF-8'>\n",
      "<_io.TextIOWrapper name='yoursort-baseline-1000.data' mode='r' encoding='UTF-8'>\n",
      "<_io.TextIOWrapper name='heapsort-baseline-100.data' mode='r' encoding='UTF-8'>\n",
      "Baseline data: \n",
      "\n",
      "Quicksort baseline:\n",
      "(10, 1227) \n",
      "\n",
      "(100, 16146) \n",
      "\n",
      "(1000, 193237) \n",
      "\n",
      "(10000, 2325099) \n",
      "\n",
      "Heapsort baseline:\n",
      "(10, 1242) \n",
      "\n",
      "(100, 20862) \n",
      "\n",
      "(1000, 296831) \n",
      "\n",
      "(10000, 3937219) \n",
      "\n",
      "Yoursort baseline:\n",
      "(10, 1215) \n",
      "\n",
      "(100, 15846) \n",
      "\n",
      "(1000, 191038) \n",
      "\n",
      "(10000, 2304995) \n",
      "\n",
      "Yoursort_02 baseline:\n",
      "(2, 192228) \n",
      "\n",
      "(2, 2358263) \n",
      "\n",
      "(2, 15640) \n",
      "\n",
      "(2, 1137) \n",
      "\n"
     ]
    }
   ],
   "source": [
    "quick_times = []\n",
    "heap_times = []\n",
    "your_times = []\n",
    "your_OPT_times = []\n",
    "\n",
    "algorithms = [quick_times,heap_times,your_times,your_OPT_times]\n",
    "names = ['Quicksort','Heapsort','Yoursort','Yoursort_OPT']\n",
    "\n",
    "# change directory to search in /data/\n",
    "os.chdir(\"/Users/baunbaun/Documents/computersystemer_BAUN/compsys/A3/src/data\")\n",
    "\n",
    "# extract baseline data\n",
    "for file in glob.glob(\"*baseline*\"):\n",
    "    f = open(file,\"r\");\n",
    "    # The regular expression below was inspired by the webpage: \n",
    "    # https://www.tutorialspoint.com/How-to-extract-numbers-from-a-string-in-Python\n",
    "    numbers = [int(s) for s in re.findall(r'\\d+\\d*', f.read())]\n",
    "    n = [int(s) for s in re.findall(r'\\d+\\d*', file)][0]\n",
    "    \n",
    "    print(f)\n",
    "    \n",
    "    # running time is the last number in numbers\n",
    "    time = numbers[len(numbers)-1:][0]\n",
    "    tupl = (n,time) \n",
    "\n",
    "    # put baseline data in the correct list\n",
    "    if(re.search('quick',file)):\n",
    "        quick_times.append(tupl)\n",
    "    elif(re.search('heap',file)):\n",
    "        heap_times.append(tupl)\n",
    "    elif(re.search('yoursort_OPT',file)):\n",
    "        your_OPT_times.append(tupl)\n",
    "    elif(re.search('yoursort',file)):\n",
    "        your_times.append(tupl)\n",
    "        \n",
    "    f.close() \n",
    "\n",
    "# sort lists by n and print the result\n",
    "print(\"Baseline data: \\n\")\n",
    "for i in range(len(algorithms)):\n",
    "    algorithms[i] = sorted(algorithms[i], key=lambda tup: tup[0])\n",
    "    print(names[i], \"baseline:\")\n",
    "    for t in algorithms[i]:\n",
    "        print(t, \"\\n\")"
   ]
  },
  {
   "cell_type": "markdown",
   "metadata": {},
   "source": [
    "### Plot baseline (running time in cycles per n-elements)"
   ]
  },
  {
   "cell_type": "code",
   "execution_count": 3,
   "metadata": {},
   "outputs": [
    {
     "name": "stdout",
     "output_type": "stream",
     "text": [
      "Quicksort [(10, 1227), (100, 16146), (1000, 193237), (10000, 2325099)]\n",
      "Heapsort [(10, 1242), (100, 20862), (1000, 296831), (10000, 3937219)]\n",
      "Yoursort [(2, 192228), (2, 2358263), (2, 15640), (2, 1137), (10, 1215), (100, 15846), (1000, 191038), (10000, 2304995)]\n"
     ]
    },
    {
     "data": {
      "image/png": "[encoded data removed]",
      "text/plain": [
       "<matplotlib.figure.Figure at 0x114dcce10>"
      ]
     },
     "metadata": {},
     "output_type": "display_data"
    }
   ],
   "source": [
    "for i in range(len(algorithms)):\n",
    "    algo = algorithms[i]\n",
    "    name = names[i]\n",
    "    print(name, algo)\n",
    "    plt.plot(*zip(*algo), label=name)\n",
    "    plt.legend()\n",
    "    plt.xlabel('Size of n')\n",
    "    plt.ylabel('Running time in cycles')\n",
    "    #plt.xscale('log')\n",
    "    #plt.xlim([1,1e8])\n",
    "    #plt.ylim([1,1e8])"
   ]
  },
  {
   "cell_type": "markdown",
   "metadata": {},
   "source": [
    "### Plot baseline (running time in cycles per one element)\n",
    "#### OBS, script may only be run once or the tuples are divided again and again"
   ]
  },
  {
   "cell_type": "code",
   "execution_count": 4,
   "metadata": {},
   "outputs": [
    {
     "name": "stdout",
     "output_type": "stream",
     "text": [
      "Quicksort [(10, 122.7), (100, 161.46), (1000, 193.237), (10000, 232.5099)]\n",
      "Heapsort [(10, 124.2), (100, 208.62), (1000, 296.831), (10000, 393.7219)]\n",
      "Yoursort [(2, 96114.0), (2, 1179131.5), (2, 7820.0), (2, 568.5), (10, 121.5), (100, 158.46), (1000, 191.038), (10000, 230.4995)]\n",
      "Yoursort_02 []\n"
     ]
    },
    {
     "data": {
      "image/png": "[encoded data removed]",
      "text/plain": [
       "<matplotlib.figure.Figure at 0x11743a9e8>"
      ]
     },
     "metadata": {},
     "output_type": "display_data"
    }
   ],
   "source": [
    "import matplotlib.pyplot as plt\n",
    "\n",
    "# helper function\n",
    "def div(algo):\n",
    "    algo_copy = algo\n",
    "    for i in range(len(algo)):\n",
    "        tup = algo[i]\n",
    "        algo_copy[i] = int(tup[0]),(tup[1]/tup[0])\n",
    "    return algo_copy \n",
    "\n",
    "for i in range(len(algorithms)):\n",
    "    algo = div(algorithms[i])\n",
    "    name = names[i]\n",
    "    print(name, algo)\n",
    "    plt.plot(*zip(*algo), label=name)\n",
    "    plt.legend()\n",
    "    #plt.xlim([1,1e8])\n",
    "    #plt.ylim([1,20])\n",
    "    plt.xlabel('Size of n')\n",
    "    plt.ylabel('Running time in cycles per element')\n",
    "    plt.xscale('log')\n"
   ]
  },
  {
   "cell_type": "markdown",
   "metadata": {},
   "source": [
    "# Delay (assignment 1.2.2)"
   ]
  },
  {
   "cell_type": "code",
   "execution_count": 5,
   "metadata": {},
   "outputs": [
    {
     "name": "stdout",
     "output_type": "stream",
     "text": [
      "Delay data: \n",
      "\n",
      "Quicksort : cache misses:\n",
      "(10, 31, 30) \n",
      "\n",
      "(100, 85, 84) \n",
      "\n",
      "(1000, 545, 543) \n",
      "\n",
      "(10000, 15505, 5060) \n",
      "\n",
      "Heapsort : cache misses:\n",
      "(10, 32, 31) \n",
      "\n",
      "(100, 77, 76) \n",
      "\n",
      "(1000, 528, 526) \n",
      "\n",
      "(10000, 31342, 5027) \n",
      "\n",
      "Yoursort : cache misses:\n",
      "(2, 15372, 5052) \n",
      "\n",
      "(2, 29, 29) \n",
      "\n",
      "(2, 541, 540) \n",
      "\n",
      "(2, 80, 80) \n",
      "\n",
      "(10, 32, 31) \n",
      "\n",
      "(100, 86, 85) \n",
      "\n",
      "(1000, 546, 544) \n",
      "\n",
      "(10000, 15506, 5061) \n",
      "\n"
     ]
    }
   ],
   "source": [
    "# extracting all delay files and running times\n",
    "\n",
    "# reset datastructure\n",
    "quick_times[:] = []\n",
    "heap_times[:] = []\n",
    "your_times[:] = []\n",
    "\n",
    "algorithms[:] = [quick_times,heap_times,your_times]\n",
    "names[:] = ['Quicksort','Heapsort','Yoursort']\n",
    "\n",
    "D_cache = 0\n",
    "I_cache = 0\n",
    "L1 = 0 # L1 is the sum of the D- and I-cache\n",
    "L2 = 0\n",
    "\n",
    "# change directory to search in /data/\n",
    "os.chdir(\"/Users/baunbaun/Documents/computersystemer_BAUN/compsys/A3/src/data\")\n",
    "\n",
    "# extract \n",
    "for file in glob.glob(\"*memory*\"):\n",
    "    f = open(file,\"r\");\n",
    "    # extract only digits\n",
    "    numbers = [int(s) for s in re.findall(r'\\d+\\d*', f.read())]  \n",
    "    n = [int(s) for s in re.findall(r'\\d+\\d*', file)][0]\n",
    "        \n",
    "    D_cache = numbers[21:22]\n",
    "    I_cache = numbers[16:17]\n",
    "    L1 = D_cache[0] + I_cache[0]\n",
    "    L2 = numbers[11:12][0]\n",
    "    \n",
    "    cache_misses = (n,L1,L2) \n",
    "\n",
    "    if(re.search('quick',file)):\n",
    "        quick_times.append(cache_misses)\n",
    "    elif(re.search('heap',file)):\n",
    "        heap_times.append(cache_misses)\n",
    "    elif(re.search('yoursort_OPT',file)):\n",
    "        your_OPT_times.append(tupl)\n",
    "    elif(re.search('yoursort',file)):\n",
    "        your_times.append(tupl)\n",
    "        \n",
    "    f.close() \n",
    "    \n",
    "# sort lists by n\n",
    "\n",
    "print(\"Delay data: \\n\")\n",
    "for i in range(len(algorithms)):\n",
    "    algorithms[i] = sorted(algorithms[i], key=lambda tup: tup[0])\n",
    "    print(names[i], \": cache misses:\")\n",
    "    for t in algorithms[i]:\n",
    "        print(t, \"\\n\")\n",
    "\n"
   ]
  },
  {
   "cell_type": "code",
   "execution_count": 6,
   "metadata": {
    "collapsed": true
   },
   "outputs": [],
   "source": [
    "# AMAT = hit time + miss rate * miss penalty\n",
    "# "
   ]
  },
  {
   "cell_type": "code",
   "execution_count": null,
   "metadata": {
    "collapsed": true
   },
   "outputs": [],
   "source": []
  }
 ],
 "metadata": {
  "kernelspec": {
   "display_name": "Python 3",
   "language": "python",
   "name": "python3"
  },
  "language_info": {
   "codemirror_mode": {
    "name": "ipython",
    "version": 3
   },
   "file_extension": ".py",
   "mimetype": "text/x-python",
   "name": "python",
   "nbconvert_exporter": "python",
   "pygments_lexer": "ipython3",
   "version": "3.6.1"
  }
 },
 "nbformat": 4,
 "nbformat_minor": 2
}
