{
 "cells": [
  {
   "cell_type": "code",
   "execution_count": 4,
   "metadata": {},
   "outputs": [],
   "source": [
    "from math import log\n",
    "import matplotlib.pyplot as plt\n",
    "import re, glob, os\n",
    "%matplotlib inline"
   ]
  },
  {
   "cell_type": "markdown",
   "metadata": {},
   "source": [
    "# Baseline"
   ]
  },
  {
   "cell_type": "code",
   "execution_count": 5,
   "metadata": {},
   "outputs": [
    {
     "name": "stdout",
     "output_type": "stream",
     "text": [
      "Quicksort\n",
      "([10], [1227]) \n",
      "\n",
      "([100], [16146]) \n",
      "\n",
      "([1000], [193237]) \n",
      "\n",
      "([100000], [27708502]) \n",
      "\n",
      "Heapsort\n",
      "([10], [1242]) \n",
      "\n",
      "([100], [20862]) \n",
      "\n",
      "([1000], [296831]) \n",
      "\n",
      "([100000], [49177406]) \n",
      "\n",
      "Yoursort\n",
      "([10], [148]) \n",
      "\n",
      "([100], [1048]) \n",
      "\n",
      "([1000], [10048]) \n",
      "\n",
      "([100000], [1000048]) \n",
      "\n"
     ]
    }
   ],
   "source": [
    "# extracting all baseline files and running times\n",
    "quick_times = []\n",
    "heap_times = []\n",
    "your_times = []\n",
    "\n",
    "algorithms = [quick_times,heap_times,your_times]\n",
    "names = ['Quicksort','Heapsort','Yoursort']\n",
    "\n",
    "# change directory to search in /data/\n",
    "os.chdir(\"/Users/baunbaun/Documents/computersystemer_BAUN/compsys/A3/src/data\")\n",
    "\n",
    "# extract \n",
    "for file in glob.glob(\"*baseline*\"):\n",
    "    f = open(file,\"r\");\n",
    "    numbers = [int(s) for s in re.findall(r'\\d+\\d*', f.read())]\n",
    "    \n",
    "    n = [int(s) for s in re.findall(r'\\d+\\d*', file)]\n",
    "    \n",
    "    length = len(numbers)\n",
    "    time = numbers[length-1:]\n",
    "    tupl = (n,time) \n",
    "\n",
    "    if(re.search('quick',file)):\n",
    "        quick_times.append(tupl)\n",
    "    elif(re.search('heap',file)):\n",
    "        heap_times.append(tupl)\n",
    "    elif(re.search('your',file)):\n",
    "        your_times.append(tupl)\n",
    "        \n",
    "    f.close() \n",
    "    \n",
    "# sort lists by n\n",
    "for i in range(3):\n",
    "    algorithms[i] = sorted(algorithms[i], key=lambda tup: tup[0])\n",
    "    print(names[i])\n",
    "    for t in algorithms[i]:\n",
    "        print(t, \"\\n\")\n",
    "\n"
   ]
  },
  {
   "cell_type": "code",
   "execution_count": 6,
   "metadata": {},
   "outputs": [
    {
     "name": "stdout",
     "output_type": "stream",
     "text": [
      "Quicksort [([10], [1227]), ([100], [16146]), ([1000], [193237]), ([100000], [27708502])]\n",
      "Heapsort [([10], [1242]), ([100], [20862]), ([1000], [296831]), ([100000], [49177406])]\n",
      "Yoursort [([10], [148]), ([100], [1048]), ([1000], [10048]), ([100000], [1000048])]\n"
     ]
    },
    {
     "data": {
      "image/png": "[encoded data removed]",
      "text/plain": [
       "<Figure size 432x288 with 1 Axes>"
      ]
     },
     "metadata": {
      "needs_background": "light"
     },
     "output_type": "display_data"
    }
   ],
   "source": [
    "# plot baselines\n",
    "import matplotlib.pyplot as plt\n",
    "\n",
    "for i in range(3):\n",
    "    algo = algorithms[i]\n",
    "    name = names[i]\n",
    "    print(name, algo)\n",
    "    plt.plot(*zip(*algo), label=name)\n",
    "    plt.legend()\n",
    "    plt.xlabel('Size of n')\n",
    "    plt.ylabel('Running time in cycles')\n",
    "    plt.xscale('log')\n",
    "    plt.xlim([1,1e8])\n",
    "    plt.ylim([1,1e8])"
   ]
  }
 ],
 "metadata": {
  "kernelspec": {
   "display_name": "Python 3",
   "language": "python",
   "name": "python3"
  },
  "language_info": {
   "codemirror_mode": {
    "name": "ipython",
    "version": 3
   },
   "file_extension": ".py",
   "mimetype": "text/x-python",
   "name": "python",
   "nbconvert_exporter": "python",
   "pygments_lexer": "ipython3",
   "version": "3.7.0"
  }
 },
 "nbformat": 4,
 "nbformat_minor": 2
}
